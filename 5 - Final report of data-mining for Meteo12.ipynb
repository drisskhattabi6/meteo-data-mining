{
 "cells": [
  {
   "cell_type": "markdown",
   "id": "df3ef673",
   "metadata": {},
   "source": [
    "# Final Report :"
   ]
  },
  {
   "cell_type": "markdown",
   "id": "560a9c0b",
   "metadata": {},
   "source": [
    "#### In this notebook, we will apply machine learning algorithms on the \"Meteo12\" dataset to analyze and extract important data to group and classify this data."
   ]
  },
  {
   "cell_type": "markdown",
   "id": "aee22a36",
   "metadata": {},
   "source": [
    "## **1 - Dataset** :"
   ]
  },
  {
   "cell_type": "markdown",
   "id": "9a658e55",
   "metadata": {},
   "source": [
    "#### **Inroduction** :\n",
    "\n",
    " The **\"Meteo12\"** dataset contains the following features: ['No', 'year', 'month', 'day', 'hour', 'PM2.5', 'PM10', 'SO2', 'NO2', 'CO', 'O3', 'TEMP', 'PRES', 'DEWP', 'RAIN', 'wd', 'WSPM', 'station'], such that each column has a meaning and this dataset does not contain the Target column.\n",
    "\n",
    "  That is to say, to apply supervised machine learning algorithms we must first apply an unsupervised algorithm to create a Target column.\n",
    " \n",
    "  These columns provide various measurements and indicators of weather conditions, air quality and atmospheric properties."
   ]
  },
  {
   "cell_type": "markdown",
   "id": "44c5bbd1",
   "metadata": {},
   "source": [
    "![dataset](ref/img0.png)\n"
   ]
  },
  {
   "cell_type": "markdown",
   "id": "a7bfbd52",
   "metadata": {},
   "source": [
    "#### **the meaning of each column in your weather dataset**:\n",
    "\n",
    "1. **year**: The year in which the weather data was recorded.\n",
    "2. **month**: The month in which the weather data was recorded.\n",
    "3. **day**: The day of the month on which the weather data was recorded.\n",
    "4. **time**: The time of day the weather data was recorded.\n",
    "5. **PM2.5**: Particulate matter (PM) with a diameter of 2.5 micrometers or less, which can penetrate deep into the respiratory system and pose health risks when present in high concentrations .\n",
    "6. **PM10**: Particulate matter (PM) with a diameter of 10 micrometers or less, which can also cause adverse health effects when present in high concentrations.\n",
    "7. **SO2**: Sulfur dioxide, a gas primarily emitted by the burning of fossil fuels such as coal and oil. It can contribute to respiratory problems and is a precursor to acid rain.\n",
    "8. **NO2**: Nitrogen dioxide, a reddish-brown gas that forms when nitrogen oxides react with pollutants in the air. This can irritate the airways and worsen respiratory conditions.\n",
    "9. **CO**: Carbon monoxide, a colorless and odorless gas produced by the incomplete combustion of fuels containing carbon. It can be harmful when inhaled in large quantities, leading to carbon monoxide poisoning.\n",
    "10. **O3**: Ozone, a gas composed of three oxygen atoms. While ozone in the atmosphere protects us from the sun's ultraviolet rays, ground-level ozone is a pollutant that can cause respiratory problems and exacerbate lung conditions.\n",
    "11. **TEMP**: Temperature, measure of how hot or cold the air is.\n",
    "12. **PRES**: Atmospheric pressure, the force exerted by the weight of air molecules above a particular point on the Earth's surface.\n",
    "13. **DEWP**: Dew point, the temperature at which the air becomes saturated with water vapor and dew begins to form.\n",
    "14. **RAIN**: Precipitation, amount of rain recorded during the specified period.\n",
    "15. **WSPM**: Wind speed, the rate at which air moves horizontally past a given point.\n",
    "16. **wd**: Wind direction, indicating the direction the wind is blowing from. It is usually indicated in cardinal directions (e.g., N for North, S for South, etc.) or in degrees (e.g., 0° for North, 90° for East, etc.).\n",
    "17. **station**: The name or identifier of the weather station where the data was recorded. This column specifies the location or source of weather observations."
   ]
  },
  {
   "cell_type": "markdown",
   "id": "7638b9ca",
   "metadata": {},
   "source": [
    "#### **Data pre-processing**:"
   ]
  },
  {
   "cell_type": "markdown",
   "id": "85dc3a20",
   "metadata": {},
   "source": [
    "1- **Data cleaning**: - We will process the missing data: such as some features containing missing elements.\n",
    "\n",
    "![missing values](ref/img1.png)\n",
    "\n",
    "=> For this, we will replace the missing elements with the average feature. \n",
    "\n",
    "- We will delete the duplicate lines\n",
    "  "
   ]
  },
  {
   "cell_type": "markdown",
   "id": "95ecff61",
   "metadata": {},
   "source": [
    "2- **Feature selection**: Now, we will select Features or delete unnecessary Features, depending on the feasibility of the Feature and the correlation matrix.\n",
    "\n",
    "=> the unnecessary features in the dataset are: **\"No\"**, **\"wd\"** and **\"station\"**.\n",
    "\n",
    "=> the most useless features according to the correlation matrix are: **'year'**, **'month'**, **'day'**, **'hour'**, ** \"RAIN\"** and **\"WSPM\"**.\n",
    "\n",
    "\n",
    "![correlation matrix](ref/img2.png)\n"
   ]
  },
  {
   "cell_type": "markdown",
   "id": "b53a4e3e",
   "metadata": {},
   "source": [
    "3- **Standardization**: Now, we will standardize the data to ensure a fair comparison between the variables measured in different units and eliminate the bias introduced by the different measurement scales."
   ]
  },
  {
   "cell_type": "markdown",
   "id": "4480e244",
   "metadata": {},
   "source": [
    "#### **Visualization** :"
   ]
  },
  {
   "cell_type": "markdown",
   "id": "88bb1aad",
   "metadata": {},
   "source": [
    "Visualization of data after pre-processing:\n",
    "\n",
    "![Visualization of data](ref/img3.png)\n",
    "\n",
    "\n",
    "\n",
    "And the correlation matrix after pre-processing:\n",
    "\n",
    "![correlation matrix](ref/img4.png)\n",
    "\n"
   ]
  },
  {
   "cell_type": "markdown",
   "id": "f4cfb627",
   "metadata": {},
   "source": [
    "---------------"
   ]
  },
  {
   "cell_type": "markdown",
   "id": "25db7a4a",
   "metadata": {},
   "source": [
    "## 2 - **Apply Unsupervised algorithm (K-means)**:"
   ]
  },
  {
   "cell_type": "markdown",
   "id": "a0955a49",
   "metadata": {},
   "source": [
    "    After pre-processing the data and as we said that our dataset does not contain the column, for this we will now apply an unsupervised algorithm (k-means) to group the data and create a target column."
   ]
  },
  {
   "cell_type": "markdown",
   "id": "2e2faabf",
   "metadata": {},
   "source": [
    "#### **Choose the number of clusters**:\n",
    "\n",
    "Before applying the K-Means algorithm, you must first choose the number of culsters (contraids). For this, we will determine the number of culsters from **Elbow point**. this point produced by a graph of “silhouette scores” for different numbers of clusters."
   ]
  },
  {
   "cell_type": "markdown",
   "id": "457aca3f",
   "metadata": {},
   "source": [
    "This is the graph of “silhouette scores” for different numbers of clusters.\n",
    "\n",
    "![graph of “silhouette scores” for different numbers of clusters](ref/img5.png)\n",
    "\n",
    "    => In this case, Elbow point is the number of clusters which equals **4**."
   ]
  },
  {
   "cell_type": "markdown",
   "id": "33b9f904",
   "metadata": {},
   "source": [
    "#### **visualization of the K-Means model after training**:"
   ]
  },
  {
   "cell_type": "markdown",
   "id": "ffca09d8",
   "metadata": {},
   "source": [
    "Pair Plot :\n",
    "![k-means visualisation](ref/img9.png)\n",
    "\n",
    "Scatter Plot : \n",
    "\n",
    "![k-means visualisation](ref/img7.png)\n",
    "\n",
    "![k-means visualisation](ref/img8.png)\n",
    "\n"
   ]
  },
  {
   "cell_type": "markdown",
   "id": "307eda38",
   "metadata": {},
   "source": [
    "## 3 - **Apply Supervised algorithms**:"
   ]
  },
  {
   "cell_type": "markdown",
   "id": "0f059e07",
   "metadata": {},
   "source": [
    "### i- **The KNN algorithm**:\n",
    "\n",
    "The **KNN** algorithm is a simple and intuitive method used for classification and regression in machine learning. It assigns a class label (classification) or predicts a value (regression) based on the closest examples in the feature space. KNN is non-parametric, easy to understand and implement, but can be computationally expensive with large amounts of data.\n",
    "\n",
    "After training the KNN model, the evaluation results are as follows:\n",
    "\n",
    "**accuracy_score** : 0.966348210466277\n",
    "\n",
    "\n",
    "**confusion_matrix** :\n",
    "\n",
    "![KNN confusion_matrix](ref/img10%20-%20KNN.png)\n",
    "\n",
    "**classification_report** :\n",
    "\n",
    "              precision    recall  f1-score   support\n",
    "\n",
    "           0       0.97      0.99      0.98      2810\n",
    "           1       0.93      0.95      0.94      1755\n",
    "           2       0.98      0.97      0.97      1869\n",
    "           3       0.98      0.92      0.95       579\n",
    "\n",
    "    accuracy                           0.97      7013\n",
    "    macro avg       0.97      0.96      0.96      7013\n",
    "    weighted avg       0.97      0.97      0.97      7013\n",
    "\n"
   ]
  },
  {
   "cell_type": "markdown",
   "id": "e209c423",
   "metadata": {},
   "source": [
    "### ii- **The SVM algorithm**:\n",
    "\n",
    "**SVM** algorithm is a supervised learning method used for classification and regression. They seek to find the hyperplane that optimally separates the data from different classes, by maximizing the margin between the closest examples of each class. SVMs are efficient in high-dimensional spaces and can handle both linearly and non-linearly separable data through the use of kernels.\n",
    "\n",
    "After training the SVM model, the evaluation results are as follows:\n",
    "\n",
    "**accuracy_score** : 0.9964351917866818\n",
    "\n",
    "\n",
    "**confusion_matrix** :\n",
    "\n",
    "![SVM confusion_matrix](ref/img11%20-%20SVM.png)\n",
    "\n",
    "**classification_report** :\n",
    "\n",
    "              precision    recall  f1-score   support\n",
    "           0       1.00      1.00      1.00      2155\n",
    "           1       1.00      1.00      1.00      1944\n",
    "           2       0.99      1.00      1.00      1026\n",
    "           3       1.00      1.00      1.00      1888\n",
    "\n",
    "    accuracy                           1.00      7013\n",
    "    macro avg       1.00      1.00      1.00      7013\n",
    "    weighted avg       1.00      1.00      1.00      7013\n",
    "\n"
   ]
  },
  {
   "cell_type": "markdown",
   "id": "b504108c",
   "metadata": {},
   "source": [
    "### iii- **The CART algorithm**:\n",
    "\n",
    "The **CART** (Classification And Regression Trees) algorithm is a supervised learning method used for classification and regression. It builds a decision tree by recursively dividing the data into subgroups based on feature values. CART decision trees are easy to interpret and effective in processing different types of data, providing a robust and versatile solution for predictive modeling.\n",
    "\n",
    "After training the CART model, the evaluation results are as follows:\n",
    "\n",
    "**accuracy_score** : 0.9446741765293027\n",
    "\n",
    "\n",
    "**confusion_matrix** :\n",
    "\n",
    "![CART confusion_matrix](ref/img12%20-%20CART.png)\n",
    "\n",
    "**classification_report** :\n",
    "              \n",
    "              precision    recall  f1-score   support\n",
    "\n",
    "           0       0.96      0.96      0.96      2156\n",
    "           1       0.95      0.96      0.95      1879\n",
    "           2       0.94      0.94      0.94      1029\n",
    "           3       0.92      0.92      0.92      1949\n",
    "\n",
    "    accuracy                           0.94      7013\n",
    "    macro avg       0.94      0.94      0.94      7013\n",
    "    weighted avg       0.94      0.94      0.94      7013\n",
    "\n"
   ]
  },
  {
   "cell_type": "markdown",
   "id": "49412fe8",
   "metadata": {},
   "source": [
    "## 4- **Conclusion** :"
   ]
  },
  {
   "cell_type": "markdown",
   "id": "d8a38841",
   "metadata": {},
   "source": [
    "#### In conclusion, although all the models give very good accuracy. but, the best model with the most accuracy is the **SVM** model."
   ]
  }
 ],
 "metadata": {
  "kernelspec": {
   "display_name": "Python 3 (ipykernel)",
   "language": "python",
   "name": "python3"
  },
  "language_info": {
   "codemirror_mode": {
    "name": "ipython",
    "version": 3
   },
   "file_extension": ".py",
   "mimetype": "text/x-python",
   "name": "python",
   "nbconvert_exporter": "python",
   "pygments_lexer": "ipython3",
   "version": "3.12.2"
  }
 },
 "nbformat": 4,
 "nbformat_minor": 5
}
