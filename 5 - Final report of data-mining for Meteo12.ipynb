{
 "cells": [
  {
   "cell_type": "markdown",
   "id": "df3ef673",
   "metadata": {},
   "source": [
    "# Idriss Khattabi - MST IASD - P134189170"
   ]
  },
  {
   "cell_type": "markdown",
   "id": "560a9c0b",
   "metadata": {},
   "source": [
    "#### Dans cet notebook, on va appliquer les algorithmes de machine learning sur le dataset \"Meteo12\" pour faire l´analyse et l´extraxtion des donnees Important pour regrouper et classifié ces données."
   ]
  },
  {
   "cell_type": "markdown",
   "id": "aee22a36",
   "metadata": {},
   "source": [
    "## **1 - Dataset** :"
   ]
  },
  {
   "cell_type": "markdown",
   "id": "9a658e55",
   "metadata": {},
   "source": [
    "#### **Inroduction** :\n",
    "\n",
    " Le dataset **\"Meteo12\"** contient sur des features suivant : ['No', 'year', 'month', 'day', 'hour', 'PM2.5', 'PM10', 'SO2', 'NO2',  'CO', 'O3', 'TEMP', 'PRES', 'DEWP', 'RAIN', 'wd', 'WSPM', 'station'], telle que chaque colonne avoir une signification et cet dataset ne contient pas le colonne Target. \n",
    "\n",
    " C´est a dire, pour appliqué les algorithmes de machine learning supervisée on doit premierement appliqué une algorithmes non-supervisée pour crée un colonne Target.\n",
    " \n",
    " Ces colonnes fournissent diverses mesures et indicateurs des conditions météorologiques, de la qualité de l'air et des propriétés atmosphériques."
   ]
  },
  {
   "cell_type": "markdown",
   "id": "44c5bbd1",
   "metadata": {},
   "source": [
    "![dataset](ref/img0.png)\n"
   ]
  },
  {
   "cell_type": "markdown",
   "id": "a7bfbd52",
   "metadata": {},
   "source": [
    "#### **la signification de chaque colonne de votre ensemble de données sur la météo** :\n",
    "\n",
    "1. **année** : L'année au cours de laquelle les données météorologiques ont été enregistrées.\n",
    "2. **mois** : Le mois au cours duquel les données météorologiques ont été enregistrées.\n",
    "3. **jour** : Le jour du mois au cours duquel les données météorologiques ont été enregistrées.\n",
    "4. **heure** : L'heure de la journée à laquelle les données météorologiques ont été enregistrées.\n",
    "5. **PM2,5** : Particules (PM) d'un diamètre de 2,5 micromètres ou moins, qui peuvent pénétrer profondément dans le système respiratoire et présenter des risques pour la santé lorsqu'elles sont présentes à des concentrations élevées.\n",
    "6. **PM10** : Particules (PM) d'un diamètre de 10 micromètres ou moins, qui peuvent également avoir des effets néfastes sur la santé lorsqu'elles sont présentes à des concentrations élevées.\n",
    "7. **SO2** : dioxyde de soufre, un gaz principalement émis par la combustion de combustibles fossiles comme le charbon et le pétrole. Il peut contribuer à des problèmes respiratoires et est un précurseur des pluies acides.\n",
    "8. **NO2** : Dioxyde d'azote, un gaz brun rougeâtre qui se forme lorsque les oxydes d'azote réagissent avec les polluants présents dans l'air. Cela peut irriter les voies respiratoires et aggraver les conditions respiratoires.\n",
    "9. **CO** : Monoxyde de carbone, un gaz incolore et inodore produit par la combustion incomplète de carburants contenant du carbone. Il peut être nocif lorsqu'il est inhalé en grande quantité, entraînant une intoxication au monoxyde de carbone.\n",
    "10. **O3** : Ozone, un gaz composé de trois atomes d'oxygène. Alors que l'ozone présent dans l'atmosphère nous protège des rayons ultraviolets du soleil, l'ozone troposphérique est un polluant qui peut causer des problèmes respiratoires et exacerber les affections pulmonaires.\n",
    "11. **TEMP** : Température, mesure de la chaleur ou du froid de l'air.\n",
    "12. **PRES** : Pression atmosphérique, force exercée par le poids des molécules d'air au-dessus d'un point particulier de la surface de la Terre.\n",
    "13. **DEWP** : Point de rosée, température à laquelle l'air devient saturé de vapeur d'eau et la rosée commence à se former.\n",
    "14. **PLUIE** : Précipitations, quantité de pluie enregistrée pendant la période spécifiée.\n",
    "15. **WSPM** : Vitesse du vent, vitesse à laquelle l'air se déplace horizontalement au-delà d'un point donné.\n",
    "16. **wd** : Direction du vent, indiquant la direction d'où souffle le vent. Il est généralement indiqué dans les directions cardinales (par exemple, N pour le Nord, S pour le Sud, etc.) ou en degrés (par exemple, 0° pour le Nord, 90° pour l'Est, etc.).\n",
    "17. **station** : Le nom ou l'identifiant de la station météo où les données ont été enregistrées. Cette colonne précise l'emplacement ou la source des observations météorologiques.\n"
   ]
  },
  {
   "cell_type": "markdown",
   "id": "7638b9ca",
   "metadata": {},
   "source": [
    "#### **Pré-traitement des données** :"
   ]
  },
  {
   "cell_type": "markdown",
   "id": "85dc3a20",
   "metadata": {},
   "source": [
    "1- **le Netoyage des données** :\n",
    "  - On va traiter les données manquant : telle que quelque features contient sur des élemets manquant.\n",
    "\n",
    "![missing values](ref/img1.png)\n",
    "\n",
    "=> Pour ca, on va remplacé les élemets manquant par le moynne de feature.\n",
    "\n",
    "  - On va suprimmer les lines dupliquer\n",
    "  "
   ]
  },
  {
   "cell_type": "markdown",
   "id": "95ecff61",
   "metadata": {},
   "source": [
    "2- **Feature selection** : Maintenant, On va sélectionner des Features ou supprimer des Feature inutiles, en fonction de la faisabilité de la Feature et la matrice de correlation.\n",
    "\n",
    "=> les features inutiles dans le dataset sont : **\"No\"**, **\"wd\"** et **\"station\"**.\n",
    "\n",
    "=> les features la plus inutiles d´aprés la matrice de correlation sont : **'year'**, **'month'**, **'day'**, **'hour'**, **\"RAIN\"** et **\"WSPM\"**.\n",
    "\n",
    "\n",
    "![correlation matrix](ref/img2.png)\n"
   ]
  },
  {
   "cell_type": "markdown",
   "id": "b53a4e3e",
   "metadata": {},
   "source": [
    "\n",
    "3- **Standarisation** : Maintenant, On va standariser les données pour Assurer une comparaison équitable entre les variables mesurées dans différentes unités et Éliminer les biais introduits par les différentes échelles de mesure."
   ]
  },
  {
   "cell_type": "markdown",
   "id": "4480e244",
   "metadata": {},
   "source": [
    "#### **Visualization** :"
   ]
  },
  {
   "cell_type": "markdown",
   "id": "88bb1aad",
   "metadata": {},
   "source": [
    "Visualisation des données aprés le pré-traitemet :\n",
    "\n",
    "![Visualisation des données](ref/img3.png)\n",
    "\n",
    "\n",
    "\n",
    "Et la matrice de correlation aprés le pré-traitemet :\n",
    "\n",
    "![correlation matrix](ref/img4.png)\n",
    "\n"
   ]
  },
  {
   "cell_type": "markdown",
   "id": "f4cfb627",
   "metadata": {},
   "source": [
    "---------------"
   ]
  },
  {
   "cell_type": "markdown",
   "id": "25db7a4a",
   "metadata": {},
   "source": [
    "## 2 - **Application d´algorithme non-supervisée (K-means)** :"
   ]
  },
  {
   "cell_type": "markdown",
   "id": "a0955a49",
   "metadata": {},
   "source": [
    "    Aprés de pré-traitement des données et comme nous avons dit que notre dataset ne contient pas sur la colonne, pour ca On va appliqué maintenant une algorithme non-supervisé (k-means) pour regrouper les données et crée un colonne target."
   ]
  },
  {
   "cell_type": "markdown",
   "id": "2e2faabf",
   "metadata": {},
   "source": [
    "#### **Choisir le nombers des clusters** :\n",
    "\n",
    "Avant d´appliquée l´algorithme K-Means, il faut d´abord choisir le nombre des culsters (controids). Pour ca, on va déterminer le nombre des culsters a partir de **Elbow point**. cet point produit par une graph de \"silhouette scores\" pour different nombers des clusters."
   ]
  },
  {
   "cell_type": "markdown",
   "id": "457aca3f",
   "metadata": {},
   "source": [
    "\n",
    "ce ca le graph de \"silhouette scores\" pour different nombers des clusters.\n",
    "\n",
    "![graph de \"silhouette scores\" pour different nombers des clusters](ref/img5.png)\n",
    "\n",
    "    => Dans ce cas, Elbow point est le nombre des clusters qui egale **4**."
   ]
  },
  {
   "cell_type": "markdown",
   "id": "33b9f904",
   "metadata": {},
   "source": [
    "#### **visualisation du modéle de K-Means aprés de l´entrénement** :\n",
    "\n"
   ]
  },
  {
   "cell_type": "markdown",
   "id": "ffca09d8",
   "metadata": {},
   "source": [
    "Pair Plot :\n",
    "![k-means visualisation](ref/img9.png)\n",
    "\n",
    "Scatter Plot : \n",
    "\n",
    "![k-means visualisation](ref/img7.png)\n",
    "\n",
    "![k-means visualisation](ref/img8.png)\n",
    "\n"
   ]
  },
  {
   "cell_type": "markdown",
   "id": "307eda38",
   "metadata": {},
   "source": [
    "## 3 - **Application d´algorithmes supervisée** :"
   ]
  },
  {
   "cell_type": "markdown",
   "id": "0f059e07",
   "metadata": {},
   "source": [
    "### i- **L´algorithme KNN** :\n",
    "\n",
    "l'algorithme **KNN** est une méthode simple et intuitive utilisée pour la classification et la régression en apprentissage automatique. Il attribue une étiquette de classe (classification) ou prédit une valeur (régression) en se basant sur les exemples les plus proches dans l'espace des caractéristiques. KNN est non paramétrique, facile à comprendre et à implémenter, mais peut être coûteux en calcul avec de grandes quantités de données.\n",
    "\n",
    "Aprés l´entrainment du modéle de KNN, Les résultats de l'évaluation sont les suivants :\n",
    "\n",
    "**accuracy_score** : 0.966348210466277\n",
    "\n",
    "\n",
    "**confusion_matrix** :\n",
    "\n",
    "![KNN confusion_matrix](ref/img10%20-%20KNN.png)\n",
    "\n",
    "**classification_report** :\n",
    "\n",
    "              precision    recall  f1-score   support\n",
    "\n",
    "           0       0.97      0.99      0.98      2810\n",
    "           1       0.93      0.95      0.94      1755\n",
    "           2       0.98      0.97      0.97      1869\n",
    "           3       0.98      0.92      0.95       579\n",
    "\n",
    "    accuracy                           0.97      7013\n",
    "    macro avg       0.97      0.96      0.96      7013\n",
    "    weighted avg       0.97      0.97      0.97      7013\n",
    "\n"
   ]
  },
  {
   "cell_type": "markdown",
   "id": "e209c423",
   "metadata": {},
   "source": [
    "### ii- **L´algorithme SVM** :\n",
    "\n",
    "l'algorithme **SVM**  est une méthode d'apprentissage supervisé utilisée pour la classification et la régression. Elles cherchent à trouver l'hyperplan qui sépare de manière optimale les données des différentes classes, en maximisant la marge entre les exemples les plus proches de chaque classe. Les SVM sont efficaces dans les espaces de grandes dimensions et peuvent gérer à la fois des données linéairement et non linéairement séparables grâce à l'utilisation de noyaux.\n",
    "\n",
    "Aprés l´entrainment du modéle de SVM, Les résultats de l'évaluation sont les suivants :\n",
    "\n",
    "**accuracy_score** : 0.9964351917866818\n",
    "\n",
    "\n",
    "**confusion_matrix** :\n",
    "\n",
    "![SVM confusion_matrix](ref/img11%20-%20SVM.png)\n",
    "\n",
    "**classification_report** :\n",
    "\n",
    "              precision    recall  f1-score   support\n",
    "           0       1.00      1.00      1.00      2155\n",
    "           1       1.00      1.00      1.00      1944\n",
    "           2       0.99      1.00      1.00      1026\n",
    "           3       1.00      1.00      1.00      1888\n",
    "\n",
    "    accuracy                           1.00      7013\n",
    "    macro avg       1.00      1.00      1.00      7013\n",
    "    weighted avg       1.00      1.00      1.00      7013\n",
    "\n"
   ]
  },
  {
   "cell_type": "markdown",
   "id": "b504108c",
   "metadata": {},
   "source": [
    "### iii- **L´algorithme CART** :\n",
    "\n",
    "l'algorithme **CART** (Classification And Regression Trees) est une méthode d'apprentissage supervisé utilisée pour la classification et la régression. Elle construit un arbre de décision en divisant récursivement les données en sous-groupes basés sur les valeurs des caractéristiques. Les arbres de décision CART sont faciles à interpréter et efficaces pour traiter différents types de données, offrant ainsi une solution robuste et polyvalente pour la modélisation prédictive.\n",
    "\n",
    "Aprés l´entrainment du modéle de CART, Les résultats de l'évaluation sont les suivants :\n",
    "\n",
    "**accuracy_score** : 0.9446741765293027\n",
    "\n",
    "\n",
    "**confusion_matrix** :\n",
    "\n",
    "![CART confusion_matrix](ref/img12%20-%20CART.png)\n",
    "\n",
    "**classification_report** :\n",
    "              \n",
    "              precision    recall  f1-score   support\n",
    "\n",
    "           0       0.96      0.96      0.96      2156\n",
    "           1       0.95      0.96      0.95      1879\n",
    "           2       0.94      0.94      0.94      1029\n",
    "           3       0.92      0.92      0.92      1949\n",
    "\n",
    "    accuracy                           0.94      7013\n",
    "    macro avg       0.94      0.94      0.94      7013\n",
    "    weighted avg       0.94      0.94      0.94      7013\n",
    "\n"
   ]
  },
  {
   "cell_type": "markdown",
   "id": "49412fe8",
   "metadata": {},
   "source": [
    "## 4- **Conclusion** :"
   ]
  },
  {
   "cell_type": "markdown",
   "id": "d8a38841",
   "metadata": {},
   "source": [
    "#### En conclusion, malgré que tout les modéles donne très bonne accuracy. mais, la meilleur modéle avec la plus accuracy est le modéle de **SVM**.\n"
   ]
  }
 ],
 "metadata": {
  "kernelspec": {
   "display_name": "Python 3 (ipykernel)",
   "language": "python",
   "name": "python3"
  },
  "language_info": {
   "codemirror_mode": {
    "name": "ipython",
    "version": 3
   },
   "file_extension": ".py",
   "mimetype": "text/x-python",
   "name": "python",
   "nbconvert_exporter": "python",
   "pygments_lexer": "ipython3",
   "version": "3.12.2"
  }
 },
 "nbformat": 4,
 "nbformat_minor": 5
}
